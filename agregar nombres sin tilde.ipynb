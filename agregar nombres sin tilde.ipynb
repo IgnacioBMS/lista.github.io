{
 "cells": [
  {
   "cell_type": "code",
   "execution_count": 1,
   "metadata": {},
   "outputs": [],
   "source": [
    "import pandas as pd"
   ]
  },
  {
   "cell_type": "code",
   "execution_count": 2,
   "metadata": {},
   "outputs": [],
   "source": [
    "df = pd.read_excel('lista.xlsx')\n",
    "df = df[['Nombre', 'Mesa']]"
   ]
  },
  {
   "cell_type": "code",
   "execution_count": 3,
   "metadata": {},
   "outputs": [],
   "source": [
    "df['Nombre'] = df['Nombre'].str.upper()"
   ]
  },
  {
   "cell_type": "code",
   "execution_count": null,
   "metadata": {},
   "outputs": [],
   "source": [
    "x = 0\n",
    "for i in df['Nombre']:\n",
    "    t = False\n",
    "    for j in i:\n",
    "        if j in ['Á', 'É', 'Í', 'Ó', 'Ú']:\n",
    "            t = True\n",
    "            break\n",
    "    if t:\n",
    "        nombre = ''\n",
    "        for j in i:\n",
    "            if j == 'Á':\n",
    "                nombre += 'A'\n",
    "            elif j == 'É':\n",
    "                nombre += 'E'\n",
    "            elif j == 'Í':\n",
    "                nombre += 'I'\n",
    "            elif j == 'Ó':\n",
    "                nombre += 'O'\n",
    "            elif j == 'Ú':\n",
    "                nombre += 'U'\n",
    "            else:\n",
    "                nombre += j\n",
    "        nuevo = {'Nombre': nombre, 'Mesa': df['Mesa'][x]}\n",
    "        df = df.append(nuevo, ignore_index=True);\n",
    "    x += 1"
   ]
  },
  {
   "cell_type": "code",
   "execution_count": 5,
   "metadata": {},
   "outputs": [],
   "source": [
    "df.sort_values(by=['Mesa'], inplace=True)"
   ]
  },
  {
   "cell_type": "code",
   "execution_count": 6,
   "metadata": {},
   "outputs": [],
   "source": [
    "df['CodigoHtml'] = '<li><h3 class=\"name\">'+ df.Nombre + '</h3><p id=\"born\">'+ df.Mesa + '</p></li>'"
   ]
  },
  {
   "cell_type": "code",
   "execution_count": 9,
   "metadata": {},
   "outputs": [],
   "source": [
    "df.to_excel('lista-buena.xlsx', index=False)"
   ]
  }
 ],
 "metadata": {
  "kernelspec": {
   "display_name": "base",
   "language": "python",
   "name": "python3"
  },
  "language_info": {
   "codemirror_mode": {
    "name": "ipython",
    "version": 3
   },
   "file_extension": ".py",
   "mimetype": "text/x-python",
   "name": "python",
   "nbconvert_exporter": "python",
   "pygments_lexer": "ipython3",
   "version": "3.9.12"
  },
  "orig_nbformat": 4,
  "vscode": {
   "interpreter": {
    "hash": "da38062997892a68ae88df3a1549a85ff68f4e3a875c1f51aead31b07f2af4c3"
   }
  }
 },
 "nbformat": 4,
 "nbformat_minor": 2
}
